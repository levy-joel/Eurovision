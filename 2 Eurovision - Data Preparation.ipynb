{
 "cells": [
  {
   "cell_type": "markdown",
   "id": "abcc9f70-475f-4a7d-95a5-4e4228f64b6f",
   "metadata": {},
   "source": [
    "# Eurovision's data Preparation\n",
    "#### This code is used to prepare the scraped data of the Eurovision for analysing"
   ]
  },
  {
   "cell_type": "markdown",
   "id": "a44cd3af-15a4-48eb-87ff-96a62b1cd443",
   "metadata": {},
   "source": [
    "## Importing Libraries"
   ]
  },
  {
   "cell_type": "code",
   "execution_count": 29,
   "id": "dcdb4470-5375-4a54-a392-537421970ba9",
   "metadata": {},
   "outputs": [],
   "source": [
    "import pandas as pd\n",
    "import numpy as np\n",
    "from sklearn.preprocessing import minmax_scale"
   ]
  },
  {
   "cell_type": "code",
   "execution_count": 30,
   "id": "598a4870-5404-4665-ac72-b636920f4a47",
   "metadata": {},
   "outputs": [],
   "source": [
    "pd.set_option('display.max_rows', None, 'display.max_columns', None)"
   ]
  },
  {
   "cell_type": "markdown",
   "id": "37556db8-3d65-4329-b3ff-1396e3dec51d",
   "metadata": {},
   "source": [
    "## Preparing the data"
   ]
  },
  {
   "cell_type": "markdown",
   "id": "bae11807-6c7f-45be-81f2-9c45c25b46df",
   "metadata": {
    "tags": []
   },
   "source": [
    "### Eurovision's Events"
   ]
  },
  {
   "cell_type": "code",
   "execution_count": 31,
   "id": "660ece5a-9630-4aff-9f80-e3a516cf9a6b",
   "metadata": {},
   "outputs": [],
   "source": [
    "df_events = pd.read_csv('Eurovision events.csv')"
   ]
  },
  {
   "cell_type": "code",
   "execution_count": 32,
   "id": "ec3c7bbb-5df6-4aff-8bba-5c69a1a07139",
   "metadata": {},
   "outputs": [
    {
     "name": "stdout",
     "output_type": "stream",
     "text": [
      "<class 'pandas.core.frame.DataFrame'>\n",
      "RangeIndex: 69 entries, 0 to 68\n",
      "Data columns (total 7 columns):\n",
      " #   Column       Non-Null Count  Dtype  \n",
      "---  ------       --------------  -----  \n",
      " 0   Year         69 non-null     int64  \n",
      " 1   City         69 non-null     object \n",
      " 2   Winner       69 non-null     object \n",
      " 3   Participant  69 non-null     object \n",
      " 4   Song         24 non-null     object \n",
      " 5   Points       68 non-null     float64\n",
      " 6   Url          69 non-null     object \n",
      "dtypes: float64(1), int64(1), object(5)\n",
      "memory usage: 3.9+ KB\n"
     ]
    }
   ],
   "source": [
    "df_events.info()"
   ]
  },
  {
   "cell_type": "code",
   "execution_count": 33,
   "id": "ab7eaf6c-9f52-4990-9591-1a8a2ad3d29b",
   "metadata": {},
   "outputs": [
    {
     "data": {
      "text/html": [
       "<div>\n",
       "<style scoped>\n",
       "    .dataframe tbody tr th:only-of-type {\n",
       "        vertical-align: middle;\n",
       "    }\n",
       "\n",
       "    .dataframe tbody tr th {\n",
       "        vertical-align: top;\n",
       "    }\n",
       "\n",
       "    .dataframe thead th {\n",
       "        text-align: right;\n",
       "    }\n",
       "</style>\n",
       "<table border=\"1\" class=\"dataframe\">\n",
       "  <thead>\n",
       "    <tr style=\"text-align: right;\">\n",
       "      <th></th>\n",
       "      <th>Year</th>\n",
       "      <th>City</th>\n",
       "      <th>Winner</th>\n",
       "      <th>Participant</th>\n",
       "      <th>Song</th>\n",
       "      <th>Points</th>\n",
       "      <th>Url</th>\n",
       "    </tr>\n",
       "  </thead>\n",
       "  <tbody>\n",
       "    <tr>\n",
       "      <th>0</th>\n",
       "      <td>2022</td>\n",
       "      <td>Turin</td>\n",
       "      <td>Ukraine</td>\n",
       "      <td>Kalush Orchestra</td>\n",
       "      <td>Stefania</td>\n",
       "      <td>631.0</td>\n",
       "      <td>https://eurovision.tv/event/turin-2022</td>\n",
       "    </tr>\n",
       "    <tr>\n",
       "      <th>1</th>\n",
       "      <td>2021</td>\n",
       "      <td>Rotterdam</td>\n",
       "      <td>Italy</td>\n",
       "      <td>Måneskin</td>\n",
       "      <td>Zitti E Buoni</td>\n",
       "      <td>524.0</td>\n",
       "      <td>https://eurovision.tv/event/rotterdam-2021</td>\n",
       "    </tr>\n",
       "    <tr>\n",
       "      <th>2</th>\n",
       "      <td>2019</td>\n",
       "      <td>Tel Aviv</td>\n",
       "      <td>Netherlands</td>\n",
       "      <td>Duncan Laurence</td>\n",
       "      <td>Arcade</td>\n",
       "      <td>498.0</td>\n",
       "      <td>https://eurovision.tv/event/tel-aviv-2019</td>\n",
       "    </tr>\n",
       "    <tr>\n",
       "      <th>3</th>\n",
       "      <td>2018</td>\n",
       "      <td>Lisbon</td>\n",
       "      <td>Israel</td>\n",
       "      <td>Netta</td>\n",
       "      <td>TOY</td>\n",
       "      <td>529.0</td>\n",
       "      <td>https://eurovision.tv/event/lisbon-2018</td>\n",
       "    </tr>\n",
       "    <tr>\n",
       "      <th>4</th>\n",
       "      <td>2017</td>\n",
       "      <td>Kyiv</td>\n",
       "      <td>Portugal</td>\n",
       "      <td>Salvador Sobral</td>\n",
       "      <td>Amar Pelos Dois</td>\n",
       "      <td>758.0</td>\n",
       "      <td>https://eurovision.tv/event/kyiv-2017</td>\n",
       "    </tr>\n",
       "  </tbody>\n",
       "</table>\n",
       "</div>"
      ],
      "text/plain": [
       "   Year       City       Winner       Participant             Song  Points  \\\n",
       "0  2022      Turin      Ukraine  Kalush Orchestra         Stefania   631.0   \n",
       "1  2021  Rotterdam        Italy          Måneskin    Zitti E Buoni   524.0   \n",
       "2  2019   Tel Aviv  Netherlands   Duncan Laurence           Arcade   498.0   \n",
       "3  2018     Lisbon       Israel             Netta              TOY   529.0   \n",
       "4  2017       Kyiv     Portugal   Salvador Sobral  Amar Pelos Dois   758.0   \n",
       "\n",
       "                                          Url  \n",
       "0      https://eurovision.tv/event/turin-2022  \n",
       "1  https://eurovision.tv/event/rotterdam-2021  \n",
       "2   https://eurovision.tv/event/tel-aviv-2019  \n",
       "3     https://eurovision.tv/event/lisbon-2018  \n",
       "4       https://eurovision.tv/event/kyiv-2017  "
      ]
     },
     "execution_count": 33,
     "metadata": {},
     "output_type": "execute_result"
    }
   ],
   "source": [
    "df_events.head()"
   ]
  },
  {
   "cell_type": "code",
   "execution_count": 34,
   "id": "497d1b69-1f6d-451f-a781-b19b7eba79e2",
   "metadata": {},
   "outputs": [],
   "source": [
    "df_events.drop(columns = ['Participant','Song','Points','Url'], inplace=True)\n",
    "df_events = df_events.groupby(by = ['Year','City']).count().reset_index()\n",
    "df_events.rename(columns = {'City':'Place','Winner':'Nr_Winners'}, inplace=True)\n",
    "df_events = df_events.set_index('Year')"
   ]
  },
  {
   "cell_type": "markdown",
   "id": "f012b92d-c96a-4545-8c89-368603b646ea",
   "metadata": {
    "tags": []
   },
   "source": [
    "### Eurovision's Contests"
   ]
  },
  {
   "cell_type": "code",
   "execution_count": 35,
   "id": "8147dece-38ac-4def-ae4d-ddb8498aec69",
   "metadata": {},
   "outputs": [],
   "source": [
    "df_contests = pd.read_csv('Eurovision contests.csv')"
   ]
  },
  {
   "cell_type": "code",
   "execution_count": 36,
   "id": "b1519e47-8a2a-46a1-9b4a-7531b9d65d9e",
   "metadata": {},
   "outputs": [
    {
     "name": "stdout",
     "output_type": "stream",
     "text": [
      "<class 'pandas.core.frame.DataFrame'>\n",
      "RangeIndex: 1964 entries, 0 to 1963\n",
      "Data columns (total 9 columns):\n",
      " #   Column               Non-Null Count  Dtype  \n",
      "---  ------               --------------  -----  \n",
      " 0   R/O Sort descending  1964 non-null   int64  \n",
      " 1   Half                 1964 non-null   object \n",
      " 2   Country              1964 non-null   object \n",
      " 3   Participant          1964 non-null   object \n",
      " 4   Song                 1963 non-null   object \n",
      " 5   Points               1913 non-null   float64\n",
      " 6   Rank                 1964 non-null   object \n",
      " 7   Year                 1964 non-null   int64  \n",
      " 8   Format               1964 non-null   object \n",
      "dtypes: float64(1), int64(2), object(6)\n",
      "memory usage: 138.2+ KB\n"
     ]
    }
   ],
   "source": [
    "df_contests.info()"
   ]
  },
  {
   "cell_type": "code",
   "execution_count": 37,
   "id": "c7101408-4bc9-4f6a-89e7-f8b281f8696c",
   "metadata": {},
   "outputs": [
    {
     "data": {
      "text/html": [
       "<div>\n",
       "<style scoped>\n",
       "    .dataframe tbody tr th:only-of-type {\n",
       "        vertical-align: middle;\n",
       "    }\n",
       "\n",
       "    .dataframe tbody tr th {\n",
       "        vertical-align: top;\n",
       "    }\n",
       "\n",
       "    .dataframe thead th {\n",
       "        text-align: right;\n",
       "    }\n",
       "</style>\n",
       "<table border=\"1\" class=\"dataframe\">\n",
       "  <thead>\n",
       "    <tr style=\"text-align: right;\">\n",
       "      <th></th>\n",
       "      <th>R/O Sort descending</th>\n",
       "      <th>Half</th>\n",
       "      <th>Country</th>\n",
       "      <th>Participant</th>\n",
       "      <th>Song</th>\n",
       "      <th>Points</th>\n",
       "      <th>Rank</th>\n",
       "      <th>Year</th>\n",
       "      <th>Format</th>\n",
       "    </tr>\n",
       "  </thead>\n",
       "  <tbody>\n",
       "    <tr>\n",
       "      <th>0</th>\n",
       "      <td>1</td>\n",
       "      <td>—</td>\n",
       "      <td>Netherlands</td>\n",
       "      <td>Jetty Paerl</td>\n",
       "      <td>De Vogels Van Holland</td>\n",
       "      <td>NaN</td>\n",
       "      <td>2nd</td>\n",
       "      <td>1956</td>\n",
       "      <td>final</td>\n",
       "    </tr>\n",
       "    <tr>\n",
       "      <th>1</th>\n",
       "      <td>2</td>\n",
       "      <td>—</td>\n",
       "      <td>Switzerland</td>\n",
       "      <td>Lys Assia</td>\n",
       "      <td>Das Alte Karussell</td>\n",
       "      <td>NaN</td>\n",
       "      <td>2nd</td>\n",
       "      <td>1956</td>\n",
       "      <td>final</td>\n",
       "    </tr>\n",
       "    <tr>\n",
       "      <th>2</th>\n",
       "      <td>3</td>\n",
       "      <td>—</td>\n",
       "      <td>Belgium</td>\n",
       "      <td>Fud Leclerc</td>\n",
       "      <td>Messieurs Les Noyés De La Seine</td>\n",
       "      <td>NaN</td>\n",
       "      <td>2nd</td>\n",
       "      <td>1956</td>\n",
       "      <td>final</td>\n",
       "    </tr>\n",
       "    <tr>\n",
       "      <th>3</th>\n",
       "      <td>4</td>\n",
       "      <td>—</td>\n",
       "      <td>Germany</td>\n",
       "      <td>Walter Andreas Schwarz</td>\n",
       "      <td>Im Wartesaal Zum Großen Glück</td>\n",
       "      <td>NaN</td>\n",
       "      <td>2nd</td>\n",
       "      <td>1956</td>\n",
       "      <td>final</td>\n",
       "    </tr>\n",
       "    <tr>\n",
       "      <th>4</th>\n",
       "      <td>5</td>\n",
       "      <td>—</td>\n",
       "      <td>France</td>\n",
       "      <td>Mathé Altéry</td>\n",
       "      <td>Le Temps Perdu</td>\n",
       "      <td>NaN</td>\n",
       "      <td>2nd</td>\n",
       "      <td>1956</td>\n",
       "      <td>final</td>\n",
       "    </tr>\n",
       "  </tbody>\n",
       "</table>\n",
       "</div>"
      ],
      "text/plain": [
       "   R/O Sort descending Half      Country             Participant  \\\n",
       "0                    1    —  Netherlands             Jetty Paerl   \n",
       "1                    2    —  Switzerland               Lys Assia   \n",
       "2                    3    —      Belgium             Fud Leclerc   \n",
       "3                    4    —      Germany  Walter Andreas Schwarz   \n",
       "4                    5    —       France            Mathé Altéry   \n",
       "\n",
       "                              Song  Points Rank  Year Format  \n",
       "0            De Vogels Van Holland     NaN  2nd  1956  final  \n",
       "1               Das Alte Karussell     NaN  2nd  1956  final  \n",
       "2  Messieurs Les Noyés De La Seine     NaN  2nd  1956  final  \n",
       "3    Im Wartesaal Zum Großen Glück     NaN  2nd  1956  final  \n",
       "4                   Le Temps Perdu     NaN  2nd  1956  final  "
      ]
     },
     "execution_count": 37,
     "metadata": {},
     "output_type": "execute_result"
    }
   ],
   "source": [
    "df_contests.head()"
   ]
  },
  {
   "cell_type": "code",
   "execution_count": 38,
   "id": "055e470e-282c-4c14-a166-5d7643f0f112",
   "metadata": {},
   "outputs": [
    {
     "data": {
      "text/plain": [
       "R/O Sort descending     0\n",
       "Half                    0\n",
       "Country                 0\n",
       "Participant             0\n",
       "Song                    1\n",
       "Points                 51\n",
       "Rank                    0\n",
       "Year                    0\n",
       "Format                  0\n",
       "dtype: int64"
      ]
     },
     "execution_count": 38,
     "metadata": {},
     "output_type": "execute_result"
    }
   ],
   "source": [
    "df_contests.isna().sum()"
   ]
  },
  {
   "cell_type": "code",
   "execution_count": 39,
   "id": "6ced8a20-9e9e-4c96-a5ee-f86adccbf8eb",
   "metadata": {},
   "outputs": [
    {
     "data": {
      "text/html": [
       "<div>\n",
       "<style scoped>\n",
       "    .dataframe tbody tr th:only-of-type {\n",
       "        vertical-align: middle;\n",
       "    }\n",
       "\n",
       "    .dataframe tbody tr th {\n",
       "        vertical-align: top;\n",
       "    }\n",
       "\n",
       "    .dataframe thead th {\n",
       "        text-align: right;\n",
       "    }\n",
       "</style>\n",
       "<table border=\"1\" class=\"dataframe\">\n",
       "  <thead>\n",
       "    <tr style=\"text-align: right;\">\n",
       "      <th></th>\n",
       "      <th>R/O Sort descending</th>\n",
       "      <th>Half</th>\n",
       "      <th>Country</th>\n",
       "      <th>Participant</th>\n",
       "      <th>Song</th>\n",
       "      <th>Points</th>\n",
       "      <th>Rank</th>\n",
       "      <th>Year</th>\n",
       "      <th>Format</th>\n",
       "    </tr>\n",
       "  </thead>\n",
       "  <tbody>\n",
       "    <tr>\n",
       "      <th>1059</th>\n",
       "      <td>24</td>\n",
       "      <td>—</td>\n",
       "      <td>Serbia &amp; Montenegro</td>\n",
       "      <td>Withdrew from the competition, but still voted</td>\n",
       "      <td>NaN</td>\n",
       "      <td>NaN</td>\n",
       "      <td>24th</td>\n",
       "      <td>2006</td>\n",
       "      <td>semi-final</td>\n",
       "    </tr>\n",
       "  </tbody>\n",
       "</table>\n",
       "</div>"
      ],
      "text/plain": [
       "      R/O Sort descending Half              Country  \\\n",
       "1059                   24    —  Serbia & Montenegro   \n",
       "\n",
       "                                         Participant Song  Points  Rank  Year  \\\n",
       "1059  Withdrew from the competition, but still voted  NaN     NaN  24th  2006   \n",
       "\n",
       "          Format  \n",
       "1059  semi-final  "
      ]
     },
     "execution_count": 39,
     "metadata": {},
     "output_type": "execute_result"
    }
   ],
   "source": [
    "df_contests[df_contests['Song'].isna()]"
   ]
  },
  {
   "cell_type": "code",
   "execution_count": 40,
   "id": "05d9bb9b-0765-4c1a-aaec-4d2df402647b",
   "metadata": {},
   "outputs": [
    {
     "data": {
      "text/html": [
       "<div>\n",
       "<style scoped>\n",
       "    .dataframe tbody tr th:only-of-type {\n",
       "        vertical-align: middle;\n",
       "    }\n",
       "\n",
       "    .dataframe tbody tr th {\n",
       "        vertical-align: top;\n",
       "    }\n",
       "\n",
       "    .dataframe thead th {\n",
       "        text-align: right;\n",
       "    }\n",
       "</style>\n",
       "<table border=\"1\" class=\"dataframe\">\n",
       "  <thead>\n",
       "    <tr style=\"text-align: right;\">\n",
       "      <th></th>\n",
       "      <th>R/O Sort descending</th>\n",
       "      <th>Half</th>\n",
       "      <th>Country</th>\n",
       "      <th>Participant</th>\n",
       "      <th>Song</th>\n",
       "      <th>Points</th>\n",
       "      <th>Rank</th>\n",
       "      <th>Year</th>\n",
       "      <th>Format</th>\n",
       "    </tr>\n",
       "  </thead>\n",
       "  <tbody>\n",
       "    <tr>\n",
       "      <th>0</th>\n",
       "      <td>1</td>\n",
       "      <td>—</td>\n",
       "      <td>Netherlands</td>\n",
       "      <td>Jetty Paerl</td>\n",
       "      <td>De Vogels Van Holland</td>\n",
       "      <td>NaN</td>\n",
       "      <td>2nd</td>\n",
       "      <td>1956</td>\n",
       "      <td>final</td>\n",
       "    </tr>\n",
       "    <tr>\n",
       "      <th>1</th>\n",
       "      <td>2</td>\n",
       "      <td>—</td>\n",
       "      <td>Switzerland</td>\n",
       "      <td>Lys Assia</td>\n",
       "      <td>Das Alte Karussell</td>\n",
       "      <td>NaN</td>\n",
       "      <td>2nd</td>\n",
       "      <td>1956</td>\n",
       "      <td>final</td>\n",
       "    </tr>\n",
       "    <tr>\n",
       "      <th>2</th>\n",
       "      <td>3</td>\n",
       "      <td>—</td>\n",
       "      <td>Belgium</td>\n",
       "      <td>Fud Leclerc</td>\n",
       "      <td>Messieurs Les Noyés De La Seine</td>\n",
       "      <td>NaN</td>\n",
       "      <td>2nd</td>\n",
       "      <td>1956</td>\n",
       "      <td>final</td>\n",
       "    </tr>\n",
       "    <tr>\n",
       "      <th>3</th>\n",
       "      <td>4</td>\n",
       "      <td>—</td>\n",
       "      <td>Germany</td>\n",
       "      <td>Walter Andreas Schwarz</td>\n",
       "      <td>Im Wartesaal Zum Großen Glück</td>\n",
       "      <td>NaN</td>\n",
       "      <td>2nd</td>\n",
       "      <td>1956</td>\n",
       "      <td>final</td>\n",
       "    </tr>\n",
       "    <tr>\n",
       "      <th>4</th>\n",
       "      <td>5</td>\n",
       "      <td>—</td>\n",
       "      <td>France</td>\n",
       "      <td>Mathé Altéry</td>\n",
       "      <td>Le Temps Perdu</td>\n",
       "      <td>NaN</td>\n",
       "      <td>2nd</td>\n",
       "      <td>1956</td>\n",
       "      <td>final</td>\n",
       "    </tr>\n",
       "  </tbody>\n",
       "</table>\n",
       "</div>"
      ],
      "text/plain": [
       "   R/O Sort descending Half      Country             Participant  \\\n",
       "0                    1    —  Netherlands             Jetty Paerl   \n",
       "1                    2    —  Switzerland               Lys Assia   \n",
       "2                    3    —      Belgium             Fud Leclerc   \n",
       "3                    4    —      Germany  Walter Andreas Schwarz   \n",
       "4                    5    —       France            Mathé Altéry   \n",
       "\n",
       "                              Song  Points Rank  Year Format  \n",
       "0            De Vogels Van Holland     NaN  2nd  1956  final  \n",
       "1               Das Alte Karussell     NaN  2nd  1956  final  \n",
       "2  Messieurs Les Noyés De La Seine     NaN  2nd  1956  final  \n",
       "3    Im Wartesaal Zum Großen Glück     NaN  2nd  1956  final  \n",
       "4                   Le Temps Perdu     NaN  2nd  1956  final  "
      ]
     },
     "execution_count": 40,
     "metadata": {},
     "output_type": "execute_result"
    }
   ],
   "source": [
    "df_contests[df_contests['Points'].isna()].head()"
   ]
  },
  {
   "cell_type": "markdown",
   "id": "98a99255-3066-4548-a8fc-98e34613fd68",
   "metadata": {},
   "source": [
    "The scores and the scoring method of 1956 is unknown."
   ]
  },
  {
   "cell_type": "code",
   "execution_count": 41,
   "id": "6d682d47-2bfc-4dd0-a444-d05d69c527ba",
   "metadata": {},
   "outputs": [
    {
     "data": {
      "text/plain": [
       "final                917\n",
       "grand-final          456\n",
       "second-semi-final    248\n",
       "first-semi-final     244\n",
       "semi-final            99\n",
       "Name: Format, dtype: int64"
      ]
     },
     "execution_count": 41,
     "metadata": {},
     "output_type": "execute_result"
    }
   ],
   "source": [
    "df_contests['Format'].value_counts()"
   ]
  },
  {
   "cell_type": "markdown",
   "id": "fe36490d-b8df-41d3-9cb1-76cc1bd9fdfb",
   "metadata": {},
   "source": [
    "Transforming and preparing the data"
   ]
  },
  {
   "cell_type": "code",
   "execution_count": 42,
   "id": "b5668e54-c48b-43d4-b25a-5b4c2298a9d1",
   "metadata": {},
   "outputs": [],
   "source": [
    "df_contests.drop(columns = ['Half'], inplace=True)\n",
    "df_contests['Rank'] = df_contests['Rank'].replace(to_replace = r'[stndrh]',value = '',regex=True).astype('int64')\n",
    "df_contests.rename(columns = {'R/O Sort descending':'Order'}, inplace=True)\n",
    "\n",
    "df_contests['Format'] = df_contests['Format'].replace({'final':'Final','grand-final':'Final','second-semi-final':'Semi-Final',\n",
    "                                                       'first-semi-final':'Semi-Final','semi-final':'Semi-Final'})\n",
    "\n",
    "df_contests['Win'] = np.where((df_contests['Format'] == 'Final') & (df_contests['Rank'] == 1), 1, 0)\n",
    "df_contests['Qualified'] = np.where(df_contests['Participant'].str.contains('qualified'), 1, 0)\n",
    "df_contests['Participant'] = df_contests['Participant'].str.removesuffix('qualified')\n",
    "\n",
    "df_contests['Points'] = df_contests['Points'].fillna(0).astype('int64')\n",
    "\n",
    "df_contests = df_contests.set_index(['Year','Format','Country'])"
   ]
  },
  {
   "cell_type": "markdown",
   "id": "541bb02a-aae5-463e-b4be-673b9eaea16a",
   "metadata": {
    "tags": []
   },
   "source": [
    "### Combining Events and Contests"
   ]
  },
  {
   "cell_type": "code",
   "execution_count": 43,
   "id": "3ccce55c-d038-4fba-a223-a7d659df5ecf",
   "metadata": {},
   "outputs": [],
   "source": [
    "df_full = df_events.join(df_contests).reset_index()"
   ]
  },
  {
   "cell_type": "code",
   "execution_count": 44,
   "id": "073d21dd-a4ca-43d8-99fc-972326823b32",
   "metadata": {},
   "outputs": [
    {
     "data": {
      "text/html": [
       "<div>\n",
       "<style scoped>\n",
       "    .dataframe tbody tr th:only-of-type {\n",
       "        vertical-align: middle;\n",
       "    }\n",
       "\n",
       "    .dataframe tbody tr th {\n",
       "        vertical-align: top;\n",
       "    }\n",
       "\n",
       "    .dataframe thead th {\n",
       "        text-align: right;\n",
       "    }\n",
       "</style>\n",
       "<table border=\"1\" class=\"dataframe\">\n",
       "  <thead>\n",
       "    <tr style=\"text-align: right;\">\n",
       "      <th></th>\n",
       "      <th>Year</th>\n",
       "      <th>Format</th>\n",
       "      <th>Country</th>\n",
       "      <th>Place</th>\n",
       "      <th>Nr_Winners</th>\n",
       "      <th>Order</th>\n",
       "      <th>Participant</th>\n",
       "      <th>Song</th>\n",
       "      <th>Points</th>\n",
       "      <th>Rank</th>\n",
       "      <th>Win</th>\n",
       "      <th>Qualified</th>\n",
       "    </tr>\n",
       "  </thead>\n",
       "  <tbody>\n",
       "    <tr>\n",
       "      <th>0</th>\n",
       "      <td>1956</td>\n",
       "      <td>Final</td>\n",
       "      <td>Netherlands</td>\n",
       "      <td>Lugano</td>\n",
       "      <td>1</td>\n",
       "      <td>1</td>\n",
       "      <td>Jetty Paerl</td>\n",
       "      <td>De Vogels Van Holland</td>\n",
       "      <td>0</td>\n",
       "      <td>2</td>\n",
       "      <td>0</td>\n",
       "      <td>0</td>\n",
       "    </tr>\n",
       "    <tr>\n",
       "      <th>1</th>\n",
       "      <td>1956</td>\n",
       "      <td>Final</td>\n",
       "      <td>Switzerland</td>\n",
       "      <td>Lugano</td>\n",
       "      <td>1</td>\n",
       "      <td>2</td>\n",
       "      <td>Lys Assia</td>\n",
       "      <td>Das Alte Karussell</td>\n",
       "      <td>0</td>\n",
       "      <td>2</td>\n",
       "      <td>0</td>\n",
       "      <td>0</td>\n",
       "    </tr>\n",
       "    <tr>\n",
       "      <th>2</th>\n",
       "      <td>1956</td>\n",
       "      <td>Final</td>\n",
       "      <td>Belgium</td>\n",
       "      <td>Lugano</td>\n",
       "      <td>1</td>\n",
       "      <td>3</td>\n",
       "      <td>Fud Leclerc</td>\n",
       "      <td>Messieurs Les Noyés De La Seine</td>\n",
       "      <td>0</td>\n",
       "      <td>2</td>\n",
       "      <td>0</td>\n",
       "      <td>0</td>\n",
       "    </tr>\n",
       "    <tr>\n",
       "      <th>3</th>\n",
       "      <td>1956</td>\n",
       "      <td>Final</td>\n",
       "      <td>Germany</td>\n",
       "      <td>Lugano</td>\n",
       "      <td>1</td>\n",
       "      <td>4</td>\n",
       "      <td>Walter Andreas Schwarz</td>\n",
       "      <td>Im Wartesaal Zum Großen Glück</td>\n",
       "      <td>0</td>\n",
       "      <td>2</td>\n",
       "      <td>0</td>\n",
       "      <td>0</td>\n",
       "    </tr>\n",
       "    <tr>\n",
       "      <th>4</th>\n",
       "      <td>1956</td>\n",
       "      <td>Final</td>\n",
       "      <td>France</td>\n",
       "      <td>Lugano</td>\n",
       "      <td>1</td>\n",
       "      <td>5</td>\n",
       "      <td>Mathé Altéry</td>\n",
       "      <td>Le Temps Perdu</td>\n",
       "      <td>0</td>\n",
       "      <td>2</td>\n",
       "      <td>0</td>\n",
       "      <td>0</td>\n",
       "    </tr>\n",
       "  </tbody>\n",
       "</table>\n",
       "</div>"
      ],
      "text/plain": [
       "   Year Format      Country   Place  Nr_Winners  Order  \\\n",
       "0  1956  Final  Netherlands  Lugano           1      1   \n",
       "1  1956  Final  Switzerland  Lugano           1      2   \n",
       "2  1956  Final      Belgium  Lugano           1      3   \n",
       "3  1956  Final      Germany  Lugano           1      4   \n",
       "4  1956  Final       France  Lugano           1      5   \n",
       "\n",
       "              Participant                             Song  Points  Rank  Win  \\\n",
       "0             Jetty Paerl            De Vogels Van Holland       0     2    0   \n",
       "1               Lys Assia               Das Alte Karussell       0     2    0   \n",
       "2             Fud Leclerc  Messieurs Les Noyés De La Seine       0     2    0   \n",
       "3  Walter Andreas Schwarz    Im Wartesaal Zum Großen Glück       0     2    0   \n",
       "4            Mathé Altéry                   Le Temps Perdu       0     2    0   \n",
       "\n",
       "   Qualified  \n",
       "0          0  \n",
       "1          0  \n",
       "2          0  \n",
       "3          0  \n",
       "4          0  "
      ]
     },
     "execution_count": 44,
     "metadata": {},
     "output_type": "execute_result"
    }
   ],
   "source": [
    "df_full.head()"
   ]
  },
  {
   "cell_type": "code",
   "execution_count": 45,
   "id": "a2c08654-fcf0-4d3f-8486-207b4a260110",
   "metadata": {},
   "outputs": [],
   "source": [
    "df_full.to_csv('Eurovision full.csv', index=False)"
   ]
  },
  {
   "cell_type": "markdown",
   "id": "ce6bb3c5-5d64-4fd6-ad11-5c1c463cc36a",
   "metadata": {
    "tags": []
   },
   "source": [
    "### Scores"
   ]
  },
  {
   "cell_type": "code",
   "execution_count": 46,
   "id": "caf6ef01-ea24-43c6-9035-3595ca39758f",
   "metadata": {},
   "outputs": [],
   "source": [
    "df_scores = pd.read_csv('Eurovision scores.csv')"
   ]
  },
  {
   "cell_type": "code",
   "execution_count": 47,
   "id": "fda85d34-a566-424f-b381-1ece5cc8e3ff",
   "metadata": {},
   "outputs": [
    {
     "name": "stdout",
     "output_type": "stream",
     "text": [
      "<class 'pandas.core.frame.DataFrame'>\n",
      "RangeIndex: 27597 entries, 0 to 27596\n",
      "Data columns (total 6 columns):\n",
      " #   Column      Non-Null Count  Dtype \n",
      "---  ------      --------------  ----- \n",
      " 0   Year        27597 non-null  int64 \n",
      " 1   Format      27597 non-null  object\n",
      " 2   Country     27597 non-null  object\n",
      " 3   From        27597 non-null  object\n",
      " 4   Score_type  27597 non-null  object\n",
      " 5   Score       27597 non-null  int64 \n",
      "dtypes: int64(2), object(4)\n",
      "memory usage: 1.3+ MB\n"
     ]
    }
   ],
   "source": [
    "df_scores.info()"
   ]
  },
  {
   "cell_type": "code",
   "execution_count": 48,
   "id": "46a41b07-3eff-493c-af9b-7f1433d61c4b",
   "metadata": {},
   "outputs": [
    {
     "data": {
      "text/html": [
       "<div>\n",
       "<style scoped>\n",
       "    .dataframe tbody tr th:only-of-type {\n",
       "        vertical-align: middle;\n",
       "    }\n",
       "\n",
       "    .dataframe tbody tr th {\n",
       "        vertical-align: top;\n",
       "    }\n",
       "\n",
       "    .dataframe thead th {\n",
       "        text-align: right;\n",
       "    }\n",
       "</style>\n",
       "<table border=\"1\" class=\"dataframe\">\n",
       "  <thead>\n",
       "    <tr style=\"text-align: right;\">\n",
       "      <th></th>\n",
       "      <th>Year</th>\n",
       "      <th>Format</th>\n",
       "      <th>Country</th>\n",
       "      <th>From</th>\n",
       "      <th>Score_type</th>\n",
       "      <th>Score</th>\n",
       "    </tr>\n",
       "  </thead>\n",
       "  <tbody>\n",
       "    <tr>\n",
       "      <th>0</th>\n",
       "      <td>1957</td>\n",
       "      <td>final</td>\n",
       "      <td>Belgium</td>\n",
       "      <td>Denmark</td>\n",
       "      <td>Jury</td>\n",
       "      <td>2</td>\n",
       "    </tr>\n",
       "    <tr>\n",
       "      <th>1</th>\n",
       "      <td>1957</td>\n",
       "      <td>final</td>\n",
       "      <td>Belgium</td>\n",
       "      <td>Germany</td>\n",
       "      <td>Jury</td>\n",
       "      <td>2</td>\n",
       "    </tr>\n",
       "    <tr>\n",
       "      <th>2</th>\n",
       "      <td>1957</td>\n",
       "      <td>final</td>\n",
       "      <td>Belgium</td>\n",
       "      <td>Switzerland</td>\n",
       "      <td>Jury</td>\n",
       "      <td>1</td>\n",
       "    </tr>\n",
       "    <tr>\n",
       "      <th>3</th>\n",
       "      <td>1957</td>\n",
       "      <td>final</td>\n",
       "      <td>Luxembourg</td>\n",
       "      <td>Italy</td>\n",
       "      <td>Jury</td>\n",
       "      <td>4</td>\n",
       "    </tr>\n",
       "    <tr>\n",
       "      <th>4</th>\n",
       "      <td>1957</td>\n",
       "      <td>final</td>\n",
       "      <td>Luxembourg</td>\n",
       "      <td>Austria</td>\n",
       "      <td>Jury</td>\n",
       "      <td>3</td>\n",
       "    </tr>\n",
       "  </tbody>\n",
       "</table>\n",
       "</div>"
      ],
      "text/plain": [
       "   Year Format     Country         From Score_type  Score\n",
       "0  1957  final     Belgium      Denmark       Jury      2\n",
       "1  1957  final     Belgium      Germany       Jury      2\n",
       "2  1957  final     Belgium  Switzerland       Jury      1\n",
       "3  1957  final  Luxembourg        Italy       Jury      4\n",
       "4  1957  final  Luxembourg      Austria       Jury      3"
      ]
     },
     "execution_count": 48,
     "metadata": {},
     "output_type": "execute_result"
    }
   ],
   "source": [
    "df_scores.head()"
   ]
  },
  {
   "cell_type": "code",
   "execution_count": 49,
   "id": "03b25a84-712b-4232-8956-f4b2c932ce4c",
   "metadata": {},
   "outputs": [
    {
     "data": {
      "text/plain": [
       "Year          0\n",
       "Format        0\n",
       "Country       0\n",
       "From          0\n",
       "Score_type    0\n",
       "Score         0\n",
       "dtype: int64"
      ]
     },
     "execution_count": 49,
     "metadata": {},
     "output_type": "execute_result"
    }
   ],
   "source": [
    "df_scores.isna().sum()"
   ]
  },
  {
   "cell_type": "code",
   "execution_count": 50,
   "id": "1f607b15-2861-41dd-9044-825519894ffa",
   "metadata": {},
   "outputs": [],
   "source": [
    "df_scores.rename(columns = {'To_country':'Country', 'From_country':'From'}, inplace=True)\n",
    "df_scores['Format'] = df_scores['Format'].replace({'final':'Final','grand-final':'Final','second-semi-final':'Semi-Final',\n",
    "                                                   'first-semi-final':'Semi-Final','semi-final':'Semi-Final'})"
   ]
  },
  {
   "cell_type": "markdown",
   "id": "9ac8ef8a-2a24-4a2c-8f0b-056c5071e42e",
   "metadata": {
    "tags": []
   },
   "source": [
    "#### Scores Normalization\n",
    "\n",
    "During the years, many scoring methods came to use in the Eurovision contests (excluding 1956 in which the scoring method is unknown and therefor can not be examined). Even due a specific scoring method was used at a certain year, the full extend of the scoring range was not always used. To normalize the scores we need to check the min and max scores given in a certain year and use them as the full nue range of scores."
   ]
  },
  {
   "cell_type": "code",
   "execution_count": 51,
   "id": "8d97dc16-cd54-4c67-88d2-c7a6ab15a71d",
   "metadata": {},
   "outputs": [],
   "source": [
    "# These variables uses for testing perposes only\n",
    "# score_1_to_10 = [1957,1958,1959,1960,1961,1967,1968,1969,1970,1974]\n",
    "# score_1_to_3 = [1962]\n",
    "# score_1_to_5 = [1963]\n",
    "# score_1_to_9 = [1964,1965,1966]\n",
    "# score_2_to_10 = [1971,1972,1973]\n",
    "# score_1_to_12 = list(range(1975,2023))"
   ]
  },
  {
   "cell_type": "code",
   "execution_count": 52,
   "id": "fc73d944-9c23-4a5b-8947-d3e7527958aa",
   "metadata": {},
   "outputs": [],
   "source": [
    "years = df_scores['Year'].unique()\n",
    "normalized_scores = []\n",
    "\n",
    "for year in years:\n",
    "    year_scores = df_scores[df_scores['Year'] == year]\n",
    "    \n",
    "    scaled_scores = minmax_scale(df_scores[df_scores['Year'] == year]['Score'], feature_range=(1,12))\n",
    "    scaled_scores = pd.DataFrame(scaled_scores, columns=['N_score'])\n",
    "    normalized_scores.append(scaled_scores)\n",
    "\n",
    "normalized_scores = pd.concat(normalized_scores)\n",
    "df_scores['N_score'] = np.array(normalized_scores['N_score'])"
   ]
  },
  {
   "cell_type": "code",
   "execution_count": 53,
   "id": "3a526d71-ecc2-4967-861f-e350f4f09464",
   "metadata": {},
   "outputs": [],
   "source": [
    "# The data in the Eurovision website states Televoters points only from 2016, even due Televoters points were given starting 1997 in some of the countries.\n",
    "#df_scores.pivot_table(index=['Year'], columns=['Score_type'], values=['Score'])"
   ]
  },
  {
   "cell_type": "code",
   "execution_count": 54,
   "id": "f47e5636-34bb-4667-b21a-03b5169d6118",
   "metadata": {},
   "outputs": [],
   "source": [
    "# Update the Score_type data according to the information on Wikipedia.\n",
    "Voters = []\n",
    "\n",
    "Voters.append({'Year': 1997, 'Format': 'Final', 'Score_type': 'Televoters', 'Countries': ['Austria', 'Switzerland', 'Germany', 'Sweden', 'United Kingdom']})\n",
    "Voters.append({'Year': 1998, 'Format': 'Final', 'Score_type': 'Televoters',\n",
    "                   'Countries': ['Croatia', 'Greece', 'France', 'Spain', 'Slovakia', 'Poland', 'Israel', 'Germany', 'Malta', 'Slovenia', 'Ireland', 'Portugal',\n",
    "                                 'United Kingdom', 'Cyprus', 'Netherlands', 'Sweden', 'Belgium', 'Finland', 'Norway', 'Estonia', 'North Macedonia']})\n",
    "Voters.append({'Year': 1999, 'Format': 'Final', 'Score_type': 'Televoters',\n",
    "                   'Countries': ['Belgium', 'Spain', 'Croatia', 'United Kingdom', 'Slovenia', 'Norway', 'Denmark', 'France', 'Netherlands', 'Poland', 'Iceland',\n",
    "                                 'Cyprus', 'Sweden', 'Portugal', 'Austria', 'Israel', 'Malta', 'Germany', 'Estonia']})\n",
    "Voters.append({'Year': 2000, 'Format': 'Final', 'Score_type': 'Televoters',\n",
    "                   'Countries': ['Israel', 'United Kingdom', 'Estonia', 'France', 'Malta', 'Norway', 'Belgium', 'Cyprus', 'Iceland', 'Spain', 'Denmark', 'Germany',\n",
    "                                 'Switzerland', 'Croatia', 'Sweden', 'Finland', 'Latvia', 'Ireland', 'Austria']})\n",
    "Voters.append({'Year': 2001, 'Format': 'Final', 'Score_type': 'Televoters',\n",
    "                   'Countries': ['Netherlands', 'Iceland', 'Norway', 'Israel', 'Sweden', 'Lithuania', 'Latvia', 'Portugal', 'Ireland', 'Spain', 'France',\n",
    "                                 'United Kingdom', 'Slovenia', 'Poland', 'Germany', 'Estonia', 'Denmark']})\n",
    "Voters.append({'Year': 2001, 'Format': 'Final', 'Score_type': 'Combined', 'Countries': ['Croatia', 'Malta', 'Greece']})\n",
    "Voters.append({'Year': 2002, 'Format': 'Final', 'Score_type': 'Televoters',\n",
    "                   'Countries': ['United Kingdom', 'Austria', 'Estonia', 'Israel', 'Switzerland', 'Sweden', 'Denmark', 'Belgium', 'France', 'Germany', 'Latvia']})\n",
    "Voters.append({'Year': 2002, 'Format': 'Final', 'Score_type': 'Combined',\n",
    "                   'Countries': ['Cyprus', 'Greece', 'Spain', 'Croatia', 'Finland', 'Malta', 'Slovenia', 'Lithuania']})\n",
    "Voters.append({'Year': 2003, 'Format': 'Final', 'Score_type': 'Televoters',\n",
    "                   'Countries': ['Iceland', 'Austria', 'Türkiye', 'Malta', 'Portugal', 'Croatia', 'Cyprus', 'Germany', 'Spain', 'Israel', 'Netherlands', 'Ukraine',\n",
    "                                 'Greece', 'Norway', 'France', 'Poland', 'Latvia', 'Belgium', 'Estonia', 'Romania', 'Sweden', 'Slovenia']})\n",
    "Voters.append({'Year': 2004, 'Format': 'Semi-Final', 'Score_type': 'Televoters',\n",
    "                   'Countries': ['Spain', 'Austria', 'Norway', 'France', 'Serbia & Montenegro', 'Malta', 'Netherlands', 'Germany', 'Albania', 'Ukraine', 'Croatia',\n",
    "                                 'Bosnia & Herzegovina', 'Belgium', 'Russia', 'North Macedonia', 'Greece', 'Iceland', 'Ireland', 'Poland', 'United Kingdom', 'Cyprus',\n",
    "                                 'Türkiye', 'Romania', 'Sweden', 'Finland', 'Belarus', 'Latvia', 'Israel', 'Andorra', 'Portugal', 'Lithuania', 'Slovenia', 'Estonia', 'Denmark']})\n",
    "Voters.append({'Year': 2004, 'Format': 'Final', 'Score_type': 'Televoters',\n",
    "                   'Countries': ['Spain', 'Austria', 'Norway', 'France', 'Serbia & Montenegro', 'Malta', 'Netherlands', 'Germany', 'Albania', 'Ukraine', 'Croatia',\n",
    "                                 'Bosnia & Herzegovina', 'Belgium', 'Russia', 'North Macedonia', 'Greece', 'Iceland', 'Ireland', 'Poland', 'United Kingdom', 'Cyprus',\n",
    "                                 'Türkiye', 'Romania', 'Sweden', 'Finland', 'Belarus', 'Latvia', 'Israel', 'Andorra', 'Portugal', 'Monaco', 'Lithuania', 'Slovenia',\n",
    "                                 'Estonia', 'Denmark']})\n",
    "Voters.append({'Year': 2005, 'Format': 'Semi-Final', 'Score_type': 'Televoters',\n",
    "                   'Countries': ['Hungary', 'United Kingdom', 'Malta', 'Romania', 'Norway', 'Türkiye', 'Moldova', 'Cyprus', 'Spain', 'Israel', 'Serbia & Montenegro', 'Denmark',\n",
    "                                 'Sweden', 'North Macedonia', 'Ukraine', 'Germany', 'Croatia', 'Greece', 'Russia', 'Bosnia & Herzegovina', 'Switzerland', 'Latvia', 'France',\n",
    "                                 'Austria', 'Lithuania', 'Portugal', 'Belarus', 'Netherlands', 'Iceland', 'Belgium', 'Estonia', 'Finland', 'Bulgaria', 'Ireland', 'Slovenia', 'Poland']})\n",
    "Voters.append({'Year': 2005, 'Format': 'Final', 'Score_type': 'Televoters',\n",
    "                   'Countries': ['Hungary', 'United Kingdom', 'Malta', 'Romania', 'Norway', 'Türkiye', 'Albania', 'Cyprus', 'Spain', 'Israel', 'Serbia & Montenegro', 'Denmark',\n",
    "                                 'Sweden', 'North Macedonia', 'Ukraine', 'Germany', 'Croatia', 'Greece', 'Russia', 'Bosnia & Herzegovina', 'Switzerland', 'Latvia', 'France',\n",
    "                                 'Austria', 'Lithuania', 'Portugal', 'Belarus', 'Netherlands', 'Iceland', 'Belgium', 'Estonia', 'Finland', 'Bulgaria', 'Ireland', 'Slovenia', 'Poland']})\n",
    "Voters.append({'Year': 2006, 'Format': 'Semi-Final', 'Score_type': 'Televoters',\n",
    "                   'Countries': ['Switzerland', 'Moldova', 'Israel', 'Latvia', 'Norway', 'Spain', 'Malta', 'Germany', 'Denmark', 'Russia', 'North Macedonia', 'Romania',\n",
    "                                 'Bosnia & Herzegovina', 'Lithuania', 'United Kingdom', 'Greece', 'Finland', 'Ukraine', 'France', 'Croatia', 'Ireland', 'Sweden', 'Türkiye', 'Armenia',\n",
    "                                 'Bulgaria', 'Slovenia', 'Andorra', 'Belarus','Belgium', 'Cyprus', 'Poland', 'Netherlands', 'Portugal', 'Estonia', 'Iceland']})\n",
    "Voters.append({'Year': 2006, 'Format': 'Final', 'Score_type': 'Televoters',\n",
    "                   'Countries': ['Switzerland', 'Moldova', 'Israel', 'Latvia', 'Norway', 'Spain', 'Malta', 'Germany', 'Denmark', 'Russia', 'North Macedonia', 'Romania',\n",
    "                                 'Bosnia & Herzegovina', 'Lithuania', 'United Kingdom', 'Greece', 'Finland', 'Ukraine', 'France', 'Croatia', 'Ireland', 'Sweden', 'Türkiye', 'Armenia',\n",
    "                                 'Bulgaria', 'Slovenia', 'Andorra', 'Belarus','Belgium', 'Cyprus', 'Poland', 'Netherlands', 'Portugal', 'Estonia', 'Iceland']})\n",
    "Voters.append({'Year': 2007, 'Format': 'Semi-Final', 'Score_type': 'Televoters',\n",
    "                   'Countries': ['Bosnia & Herzegovina', 'Spain', 'Belarus', 'Ireland', 'Finland', 'North Macedonia', 'Slovenia', 'Hungary', 'Lithuania', 'Greece', 'Georgia', 'Sweden',\n",
    "                                 'France', 'Latvia', 'Russia', 'Germany', 'Serbia', 'Ukraine', 'United Kingdom', 'Romania', 'Bulgaria', 'Türkiye', 'Armenia', 'Moldova', 'Israel',\n",
    "                                 'Cyprus', 'Iceland', 'Montenegro', 'Switzerland', 'Netherlands', 'Denmark', 'Croatia', 'Poland', 'Czech Republic', 'Portugal', 'Norway', 'Malta',\n",
    "                                 'Estonia', 'Belgium', 'Austria']})\n",
    "Voters.append({'Year': 2007, 'Format': 'Final', 'Score_type': 'Televoters',\n",
    "                   'Countries': ['Bosnia & Herzegovina', 'Spain', 'Belarus', 'Ireland', 'Finland', 'North Macedonia', 'Slovenia', 'Hungary', 'Lithuania', 'Greece', 'Georgia', 'Sweden',\n",
    "                                 'France', 'Latvia', 'Russia', 'Germany', 'Serbia', 'Ukraine', 'United Kingdom', 'Romania', 'Bulgaria', 'Türkiye', 'Armenia', 'Moldova', 'Israel',\n",
    "                                 'Cyprus', 'Iceland', 'Montenegro', 'Switzerland', 'Netherlands', 'Denmark', 'Croatia', 'Poland', 'Czech Republic', 'Portugal', 'Norway', 'Malta',\n",
    "                                 'Estonia', 'Belgium', 'Austria']})\n",
    "Voters.append({'Year': 2008, 'Format': 'Semi-Final', 'Score_type': 'Televoters',\n",
    "                   'Countries': ['Montenegro', 'Israel', 'Estonia', 'Moldova', 'Belgium', 'Azerbaijan', 'Slovenia', 'Norway', 'Poland', 'Ireland', 'Andorra', 'Bosnia & Herzegovina',\n",
    "                                 'Armenia', 'Netherlands', 'Finland', 'Romania', 'Russia', 'Greece', 'Iceland', 'Sweden', 'Türkiye', 'Ukraine', 'Lithuania', 'Albania', 'Switzerland',\n",
    "                                 'Czech Republic', 'Belarus', 'Latvia', 'Croatia', 'Bulgaria', 'Denmark', 'Georgia', 'Hungary', 'Malta', 'Cyprus', 'North Macedonia', 'Portugal',\n",
    "                                 'United Kingdom', 'Germany', 'France', 'Spain', 'Serbia']})\n",
    "Voters.append({'Year': 2008, 'Format': 'Final', 'Score_type': 'Televoters',\n",
    "                   'Countries': ['Montenegro', 'Israel', 'Estonia', 'Moldova', 'Belgium', 'Azerbaijan', 'Slovenia', 'Norway', 'Poland', 'Ireland', 'Andorra', 'Bosnia & Herzegovina',\n",
    "                                 'Armenia', 'Netherlands', 'Finland', 'Romania', 'Russia', 'Greece', 'Iceland', 'Sweden', 'Türkiye', 'Ukraine', 'Lithuania', 'Albania', 'Switzerland',\n",
    "                                 'Czech Republic', 'Belarus', 'Latvia', 'Croatia', 'Bulgaria', 'Denmark', 'Georgia', 'Hungary', 'Malta', 'Cyprus', 'North Macedonia', 'Portugal',\n",
    "                                 'United Kingdom', 'Germany', 'France', 'Spain', 'Serbia']})\n",
    "Voters.append({'Year': 2009, 'Format': 'Semi-Final', 'Score_type': 'Televoters',\n",
    "                   'Countries': ['Montenegro', 'Belgium', 'Belarus', 'Sweden', 'Armenia', 'Andorra', 'Switzerland', 'Türkiye', 'Israel', 'Bulgaria', 'Iceland', 'North Macedonia',\n",
    "                                 'Romania', 'Finland', 'Portugal', 'Malta', 'Bosnia & Herzegovina', 'Croatia', 'Ireland', 'Latvia', 'Serbia', 'Poland', 'Norway', 'Cyprus', 'Slovakia',\n",
    "                                 'Denmark', 'Slovenia', 'Hungary', 'Azerbaijan', 'Greece', 'Lithuania', 'Moldova', 'Ukraine', 'Estonia', 'Netherlands', 'France', 'Russia', 'Germany',\n",
    "                                 'United Kingdom']})\n",
    "Voters.append({'Year': 2009, 'Format': 'Final', 'Score_type': 'Combined',\n",
    "                   'Countries': ['Montenegro', 'Belgium', 'Belarus', 'Sweden', 'Armenia', 'Andorra', 'Switzerland', 'Türkiye', 'Israel', 'Bulgaria', 'Iceland', 'North Macedonia',\n",
    "                                 'Romania', 'Finland', 'Portugal', 'Malta', 'Bosnia & Herzegovina', 'Croatia', 'Ireland', 'Latvia', 'Serbia', 'Poland', 'Cyprus', 'Slovakia', 'Denmark',\n",
    "                                 'Slovenia', 'Hungary', 'Azerbaijan', 'Greece', 'Lithuania', 'Moldova', 'Albania', 'Ukraine', 'Estonia', 'Netherlands', 'France', 'Russia', 'Germany',\n",
    "                                 'United Kingdom', 'Spain']})\n",
    "Voters.append({'Year': 2010, 'Format': 'Semi-Final', 'Score_type': 'Combined', 'Countries': df_scores[df_scores['Year']==2010]['Country'].unique()})\n",
    "Voters.append({'Year': 2010, 'Format': 'Final', 'Score_type': 'Combined', 'Countries': df_scores[df_scores['Year']==2010]['Country'].unique()})\n",
    "Voters.append({'Year': 2011, 'Format': 'Semi-Final', 'Score_type': 'Combined', 'Countries': df_scores[df_scores['Year']==2011]['Country'].unique()})\n",
    "Voters.append({'Year': 2011, 'Format': 'Final', 'Score_type': 'Combined', 'Countries': df_scores[df_scores['Year']==2011]['Country'].unique()})\n",
    "Voters.append({'Year': 2012, 'Format': 'Semi-Final', 'Score_type': 'Combined', 'Countries': df_scores[df_scores['Year']==2012]['Country'].unique()})\n",
    "Voters.append({'Year': 2012, 'Format': 'Final', 'Score_type': 'Combined', 'Countries': df_scores[df_scores['Year']==2012]['Country'].unique()})\n",
    "Voters.append({'Year': 2013, 'Format': 'Semi-Final', 'Score_type': 'Combined', 'Countries': df_scores[df_scores['Year']==2013]['Country'].unique()})\n",
    "Voters.append({'Year': 2013, 'Format': 'Final', 'Score_type': 'Combined', 'Countries': df_scores[df_scores['Year']==2013]['Country'].unique()})\n",
    "Voters.append({'Year': 2014, 'Format': 'Semi-Final', 'Score_type': 'Combined',\n",
    "                   'Countries': ['Armenia', 'Latvia', 'Estonia', 'Sweden', 'Iceland', 'Russia', 'Azerbaijan', 'Ukraine', 'Belgium', 'Portugal', 'Netherlands', 'Hungary',\n",
    "                                 'Malta', 'Israel', 'Norway', 'Poland', 'Austria', 'Lithuania', 'Finland', 'Ireland', 'Belarus', 'Switzerland', 'Greece', 'Slovenia',\n",
    "                                 'Romania', 'Germany', 'France', 'Italy', 'Spain', 'Denmark', 'United Kingdom']})\n",
    "Voters.append({'Year': 2014, 'Format': 'Final', 'Score_type': 'Combined',\n",
    "                   'Countries': ['Armenia', 'Latvia', 'Estonia', 'Sweden', 'Iceland', 'Russia', 'Azerbaijan', 'Ukraine', 'Belgium', 'Moldova', 'Portugal', 'Netherlands',\n",
    "                                 'Montenegro', 'Hungary', 'Malta', 'Israel', 'Norway', 'Poland', 'Austria', 'Lithuania', 'Finland', 'Ireland', 'Belarus', 'North Macedonia',\n",
    "                                 'Switzerland', 'Greece', 'Slovenia', 'Romania', 'Germany', 'France', 'Italy', 'Spain', 'Denmark', 'United Kingdom']})\n",
    "Voters.append({'Year': 2014, 'Format': 'Final', 'Score_type': 'Televoters', 'Countries': ['Georgia']})\n",
    "Voters.append({'Year': 2015, 'Format': 'Semi-Final', 'Score_type': 'Combined',\n",
    "                   'Countries': ['Moldova', 'Armenia', 'Belgium', 'Netherlands', 'Finland', 'Greece', 'Estonia', 'North Macedonia', 'Serbia', 'Hungary', 'Belarus', 'Russia',\n",
    "                                 'Denmark', 'Albania', 'Romania', 'Lithuania', 'Ireland', 'Malta', 'Norway', 'Portugal', 'Czech Republic', 'Israel', 'Latvia', 'Iceland', 'Sweden',\n",
    "                                 'Switzerland', 'Cyprus', 'Slovenia', 'Poland', 'France', 'United Kingdom', 'Australia', 'Spain', 'Italy']})\n",
    "Voters.append({'Year': 2015, 'Format': 'Final', 'Score_type': 'Combined',\n",
    "                   'Countries': ['Moldova', 'Armenia', 'Belgium', 'Netherlands', 'Finland', 'Greece', 'Estonia', 'Serbia', 'Hungary', 'Belarus', 'Russia', 'Denmark', 'Albania',\n",
    "                                 'Romania', 'Georgia', 'Lithuania', 'Ireland', 'Malta', 'Norway', 'Portugal', 'Czech Republic', 'Israel', 'Latvia', 'Azerbaijan', 'Iceland', 'Sweden',\n",
    "                                 'Switzerland', 'Cyprus', 'Slovenia', 'Poland', 'France', 'United Kingdom', 'Australia', 'Spain', 'Italy']})\n",
    "Voters.append({'Year': 2015, 'Format': 'Final', 'Score_type': 'Televoters', 'Countries': ['North Macedonia', 'Montenegro']})\n",
    "\n",
    "Voters = pd.DataFrame(Voters).set_index('Year')\n",
    "\n",
    "for i,row in Voters.iterrows():\n",
    "    df_scores.loc[(df_scores['Year']==i) & (df_scores['Format']==row['Format']) & (df_scores['From'].isin(row['Countries'])),'Score_type'] = row['Score_type']  \n",
    "    \n",
    "df_scores.loc[df_scores['Year']>=2016,'Score_type'] = 'Combined'"
   ]
  },
  {
   "cell_type": "code",
   "execution_count": 55,
   "id": "5e7c346d-cc45-425b-8e15-82f98cce39e7",
   "metadata": {},
   "outputs": [],
   "source": [
    "df_scores.to_csv('Eurovision score normalized.csv', index=False)"
   ]
  }
 ],
 "metadata": {
  "kernelspec": {
   "display_name": "Python 3 (ipykernel)",
   "language": "python",
   "name": "python3"
  },
  "language_info": {
   "codemirror_mode": {
    "name": "ipython",
    "version": 3
   },
   "file_extension": ".py",
   "mimetype": "text/x-python",
   "name": "python",
   "nbconvert_exporter": "python",
   "pygments_lexer": "ipython3",
   "version": "3.10.6"
  }
 },
 "nbformat": 4,
 "nbformat_minor": 5
}
