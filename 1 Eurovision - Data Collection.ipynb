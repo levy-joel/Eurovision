{
 "cells": [
  {
   "cell_type": "markdown",
   "id": "29a69fa1-249d-4f65-ab9c-46bf6e4e4dc9",
   "metadata": {},
   "source": [
    "# Eurovision's data Scraping\n",
    "#### This code is used to collect the eurovision data and save it to CSV format for further analysis."
   ]
  },
  {
   "cell_type": "markdown",
   "id": "0fa0fd06-699c-4be6-97c6-39e32b470015",
   "metadata": {},
   "source": [
    "## Importing Libraries"
   ]
  },
  {
   "cell_type": "raw",
   "id": "75694edf-a104-4860-80e8-3a407b8ad137",
   "metadata": {},
   "source": [
    "# Turn this cell to code if you need to install one or more libraries.\n",
    "!pip install grequests, requests\n",
    "!pip install beautifulsoup4\n",
    "!pip install tqdm"
   ]
  },
  {
   "cell_type": "code",
   "execution_count": null,
   "id": "8a523ea1-ad14-42bc-a14b-c1869342a2f0",
   "metadata": {},
   "outputs": [],
   "source": [
    "import grequests\n",
    "import requests\n",
    "from bs4 import BeautifulSoup\n",
    "import pandas as pd\n",
    "from tqdm import tqdm, trange\n",
    "\n",
    "import warnings\n",
    "warnings.simplefilter(\"ignore\", category=UserWarning)"
   ]
  },
  {
   "cell_type": "markdown",
   "id": "bf1c1231-66c6-4cae-bc60-bd759367b2fb",
   "metadata": {},
   "source": [
    "## Supporting Functions"
   ]
  },
  {
   "cell_type": "code",
   "execution_count": null,
   "id": "b3cbb17a-d313-4966-8cff-755bf5d3e655",
   "metadata": {},
   "outputs": [],
   "source": [
    "headers = {'User-Agent': 'Mozilla/5.0 (X11; Linux x86_64; rv:12.0) Gecko/20100101 Firefox/12.0'}"
   ]
  },
  {
   "cell_type": "code",
   "execution_count": null,
   "id": "24f9a876-4b6e-4ef7-8d77-c0caf943255c",
   "metadata": {},
   "outputs": [],
   "source": [
    "# The functionb scraps the events metadata and Url's\n",
    "\n",
    "def get_events(path):     \n",
    "    pages = range(5)     # 5 pages (0-4)\n",
    "    events = []\n",
    "    url = []\n",
    "\n",
    "    for page in pages:\n",
    "        search = {'search': '', 'page': page}\n",
    "        response = requests.get(path + '/history', params=search, headers=headers)\n",
    "        tmp_events = pd.read_html(response.content,flavor='lxml')[0]\n",
    "        events.append(tmp_events)\n",
    "        \n",
    "        soup = BeautifulSoup(response.text,'lxml')\n",
    "        for link in soup.find_all('a', string='More'):\n",
    "            url.append(path + link.get('href'))\n",
    "    \n",
    "    events = pd.concat(events)\n",
    "    events.columns = ['Year','City','Winner','Participant','Song','Points','Url']\n",
    "    events['Url'] = url\n",
    "    \n",
    "    return events"
   ]
  },
  {
   "cell_type": "code",
   "execution_count": null,
   "id": "49bbb04c-0ca9-41d6-a2b5-c787790a174e",
   "metadata": {},
   "outputs": [],
   "source": [
    "# The function determines the contest's format for a certain year - the function is used by the get_contests function\n",
    "\n",
    "def event_format(year):\n",
    "    if year in range(1956,2004):             # between 1956 and 2003\n",
    "        return ['final']\n",
    "    elif year in range(2004,2008):           # between 2004 and 2007 \n",
    "        return ['grand-final','semi-final']\n",
    "    else:                                    # from 2008\n",
    "        return ['first-semi-final','second-semi-final','grand-final']"
   ]
  },
  {
   "cell_type": "code",
   "execution_count": null,
   "id": "191eb1b4-bbf2-4df3-968c-dfa09ce96483",
   "metadata": {},
   "outputs": [],
   "source": [
    "# The function scraps the contests metadata.\n",
    "\n",
    "def get_contests(events):\n",
    "    rows = []\n",
    "    \n",
    "    with trange(len(events)) as bar:\n",
    "        for index, event in events.iterrows():\n",
    "            bar.desc = str(event['Year']) + '\\t'     # Progress-bar\n",
    "            \n",
    "            contests_format = event_format(event['Year'])\n",
    "            for contest_format in contests_format:\n",
    "                path = event['Url'] + '/' + contest_format\n",
    "                contest_data = pd.read_html(path, flavor='lxml')[0]\n",
    "                contest_data['Year'] = event['Year']\n",
    "                contest_data['Format'] = contest_format\n",
    "                rows.append(contest_data)\n",
    "            bar.update(1)     # Progress-bar\n",
    "            \n",
    "    contests = pd.concat(rows)\n",
    "    return contests"
   ]
  },
  {
   "cell_type": "code",
   "execution_count": null,
   "id": "031810ed-58b1-4c1e-b120-6db33b21124f",
   "metadata": {},
   "outputs": [],
   "source": [
    "# The function scraps the points given by jury members and televoters on the given contests.\n",
    "\n",
    "def get_scores(contests_urls):\n",
    "    rows = []\n",
    "    responses = None\n",
    "    batches = 20\n",
    "\n",
    "    # Before 2016 there are officially published scores only for the juries.   \n",
    "    # From 2016 there are officially published scores for juries and televoters.\n",
    "    url_juries = contests_urls[contests_urls['Year']<2016]['Url']\n",
    "    url_juries_and_televoters = contests_urls[contests_urls['Year']>=2016]['Url']\n",
    "        \n",
    "    with trange(len(url_juries)) as bar:   \n",
    "        bar.desc = 'Working ... Please hold...\\t'    # Progress-bar    \n",
    "        url_to_get = []\n",
    "        for url in url_juries:\n",
    "            url_to_get.append(grequests.get(url, headers=headers))\n",
    "            bar.update(1)     # Progress-bar update\n",
    "        responses = grequests.map(url_to_get, size=batches)\n",
    "    \n",
    "    with trange(len(url_juries)) as bar:   \n",
    "        bar.desc = 'Scraping contests with only Juries scores\\t'     # Progress-bar\n",
    "        for response in responses:\n",
    "            soup = BeautifulSoup(response.content,'lxml')\n",
    "            jury_scores = (soup.find_all(attrs={'class':'views-element-container'})[0]).get_text(\"|\", strip=True).split(sep='|')[1:-2]\n",
    "            rows.append(dict(Url = response.url, Jury_scores = jury_scores, Televoters_scores = []))\n",
    "            bar.update(1)     # Progress-bar update\n",
    "        \n",
    "        \n",
    "    with trange(len(url_juries_and_televoters)) as bar:        \n",
    "        bar.desc = 'Working ... Please hold...\\t'     # Progress-bar\n",
    "        url_to_get = []\n",
    "        for url in url_juries_and_televoters:\n",
    "            url_to_get.append(grequests.get(url, headers=headers))\n",
    "            bar.update(1)     # Progress-bar update\n",
    "        responses = grequests.map(url_to_get, size=batches) \n",
    "\n",
    "    with trange(len(url_juries_and_televoters)) as bar:            \n",
    "        bar.desc = 'Scraping contests with Juries and Televoters scores\\t'     # Progress-bar\n",
    "        for response in responses:\n",
    "            soup = BeautifulSoup(response.content,'lxml')\n",
    "            televoters_scores = (soup.find_all(attrs={'class':'views-element-container'})[0]).get_text(\"|\", strip=True).split(sep='|')[1:-2]\n",
    "            jury_scores = (soup.find_all(attrs={'class':'views-element-container'})[1]).get_text(\"|\", strip=True).split(sep='|')[1:-2]\n",
    "            rows.append(dict(Url = response.url, Jury_scores = jury_scores, Televoters_scores = televoters_scores))   \n",
    "            bar.update(1)      # Progress-bar update\n",
    "    \n",
    "    return pd.DataFrame(rows)"
   ]
  },
  {
   "cell_type": "code",
   "execution_count": null,
   "id": "5568c71b-299c-4eac-9c58-9ec55ad11d52",
   "metadata": {},
   "outputs": [],
   "source": [
    "# The function turns the scores scraping data to a new DataFrame with the data arranged\n",
    "\n",
    "def extract_score(scores_data):\n",
    "    rows = []\n",
    "    \n",
    "    for i,row in scores_data.iterrows():\n",
    "        jury = row['Jury_scores']\n",
    "        for j in jury:\n",
    "            if j.isdigit():\n",
    "                score = j\n",
    "            else:\n",
    "                rows.append({'Year':row['Year'], 'Format': row['Format'], 'Country': row['Country'],\n",
    "                             'From': j, 'Score_type':'Jury', 'Score':score })\n",
    "                \n",
    "    for i,row in scores_data.iterrows():\n",
    "        jury_tele = row['Televoters_scores']\n",
    "        for jt in jury_tele:\n",
    "            if jt.isdigit():\n",
    "                score = jt\n",
    "            else:\n",
    "                rows.append({'Year':row['Year'], 'Format': row['Format'], 'Country': row['Country'],\n",
    "                             'From': jt, 'Score_type':'Televoters', 'Score':score })               \n",
    "                \n",
    "    return pd.DataFrame(rows)"
   ]
  },
  {
   "cell_type": "markdown",
   "id": "8fe7f15d-e5b8-4225-b291-858ba9fc889e",
   "metadata": {},
   "source": [
    "## Extracting the data"
   ]
  },
  {
   "cell_type": "markdown",
   "id": "d93a7e6c-beb9-4797-99d7-70a48caca86a",
   "metadata": {},
   "source": [
    "### Getting 'Events' data\n",
    "Scraping all the Eurovision events over the years metadata."
   ]
  },
  {
   "cell_type": "code",
   "execution_count": null,
   "id": "9caf4b02-371a-42ea-a220-5ad2fc1afe1c",
   "metadata": {},
   "outputs": [],
   "source": [
    "df_events = get_events('https://eurovision.tv')\n",
    "df_events.head()"
   ]
  },
  {
   "cell_type": "code",
   "execution_count": null,
   "id": "41966081-1418-4140-a5c7-0c66e199b0b2",
   "metadata": {},
   "outputs": [],
   "source": [
    "df_events.to_csv('Eurovision events.csv',index=False)"
   ]
  },
  {
   "cell_type": "markdown",
   "id": "f1efd894-8551-4d79-bdab-c84e4f0b0395",
   "metadata": {},
   "source": [
    "### Getting 'Contests' data\n",
    "Scraping the contests metadata including the inner contests in each event (semi-final, first & second finals, grand-final)"
   ]
  },
  {
   "cell_type": "code",
   "execution_count": null,
   "id": "dbfcb6e0-8ade-4580-a4ab-4bb022b45354",
   "metadata": {},
   "outputs": [],
   "source": [
    "events = df_events.groupby(by=['Year','Url']).count().reset_index()[['Year','Url']]\n",
    "df_contests = get_contests(events)\n",
    "df_contests.head()"
   ]
  },
  {
   "cell_type": "code",
   "execution_count": null,
   "id": "72b788f5-7365-4b25-9f78-ef1ea8a6845f",
   "metadata": {},
   "outputs": [],
   "source": [
    "df_contests.to_csv('Eurovision contests.csv',index=False)"
   ]
  },
  {
   "cell_type": "markdown",
   "id": "1efcc891-1866-445c-8338-e3770db7b533",
   "metadata": {},
   "source": [
    "### Getting 'Score' data\n",
    "Scraping the Televoter's and Jury's scores in each contest"
   ]
  },
  {
   "cell_type": "code",
   "execution_count": null,
   "id": "e67d5e2d-57ae-488f-924d-1cfe0bd3eccd",
   "metadata": {},
   "outputs": [],
   "source": [
    "events = df_events[df_events['Year']!=1956].groupby(by=['Year','Url']).count().reset_index()[['Year','Url']]\n",
    "contests = events.join(df_contests[['Year','Format','Country']].set_index('Year'),on='Year')\n",
    "\n",
    "replacements = {'united kingdom':'united-kingdom','bosnia & herzegovina':'bosnia-herzegovina','serbia & montenegro':'serbia-montenegro',\n",
    "                'north macedonia':'north-macedonia','czech republic':'czech-republic','san marino':'san-marino','türkiye':'turkiye'}\n",
    "contests['Url_country'] = (contests['Country'].str.lower()).replace(replacements)\n",
    "\n",
    "contests['Url'] = contests['Url'] + '/' + contests['Format'] + '/results/' + contests['Url_country']"
   ]
  },
  {
   "cell_type": "code",
   "execution_count": null,
   "id": "1e248473-c847-48b5-91f6-2429d2c8cce2",
   "metadata": {},
   "outputs": [],
   "source": [
    "data = get_scores(contests[['Year','Url']])\n",
    "contests = contests.set_index('Url').join(data.set_index('Url'))"
   ]
  },
  {
   "cell_type": "code",
   "execution_count": null,
   "id": "e97bb254-91f2-4898-aaba-5936adc7e9c5",
   "metadata": {},
   "outputs": [],
   "source": [
    "df_scores = pd.DataFrame(extract_score(contests))\n",
    "df_scores.head()"
   ]
  },
  {
   "cell_type": "code",
   "execution_count": null,
   "id": "6db8cc3c-4b7c-4e52-aa02-617b5523003c",
   "metadata": {},
   "outputs": [],
   "source": [
    "df_scores.to_csv('Eurovision scores.csv',index=False)"
   ]
  }
 ],
 "metadata": {
  "kernelspec": {
   "display_name": "Python 3 (ipykernel)",
   "language": "python",
   "name": "python3"
  },
  "language_info": {
   "codemirror_mode": {
    "name": "ipython",
    "version": 3
   },
   "file_extension": ".py",
   "mimetype": "text/x-python",
   "name": "python",
   "nbconvert_exporter": "python",
   "pygments_lexer": "ipython3",
   "version": "3.10.6"
  }
 },
 "nbformat": 4,
 "nbformat_minor": 5
}
